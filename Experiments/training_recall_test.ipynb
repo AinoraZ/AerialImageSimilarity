{
 "cells": [
  {
   "cell_type": "code",
   "execution_count": 1,
   "metadata": {},
   "outputs": [
    {
     "name": "stdout",
     "output_type": "stream",
     "text": [
      "/workspaces/Code\n"
     ]
    }
   ],
   "source": [
    "%cd .."
   ]
  },
  {
   "cell_type": "code",
   "execution_count": 2,
   "metadata": {},
   "outputs": [
    {
     "name": "stderr",
     "output_type": "stream",
     "text": [
      "/usr/local/lib/python3.9/dist-packages/tqdm/auto.py:22: TqdmWarning: IProgress not found. Please update jupyter and ipywidgets. See https://ipywidgets.readthedocs.io/en/stable/user_install.html\n",
      "  from .autonotebook import tqdm as notebook_tqdm\n"
     ]
    }
   ],
   "source": [
    "%matplotlib inline\n",
    "\n",
    "from __future__ import annotations\n",
    "import os\n",
    "import numpy as np\n",
    "import tensorflow as tf\n",
    "\n",
    "from ModelBuilders import MobileNetBuilder, ModelOptions, BaseModelBuilder\n",
    "\n",
    "from map_provider import ImageProvider, ImageProjection, MapProvider\n",
    "\n",
    "from ExperimentRunners.RecallRunner import RecallRunnerOptions, RecalRunner, RecallSaverOptions, RecallSaver\n",
    "\n",
    "from vector import Vector2D"
   ]
  },
  {
   "cell_type": "code",
   "execution_count": 3,
   "metadata": {},
   "outputs": [],
   "source": [
    "os.environ['TF_CPP_MIN_LOG_LEVEL'] = '1'\n",
    "\n",
    "def enable_gpu_memory_growth():\n",
    "    \"\"\"\n",
    "    Enables memory growth mode for GPUs.\n",
    "    \"\"\"\n",
    "    gpus = tf.config.experimental.list_physical_devices('GPU')\n",
    "    assert len(gpus) > 0, \"No GPUs detected!\"\n",
    "            \n",
    "    for gpu in gpus:\n",
    "        tf.config.experimental.set_memory_growth(gpu, True)\n",
    "\n",
    "enable_gpu_memory_growth()"
   ]
  },
  {
   "cell_type": "code",
   "execution_count": 4,
   "metadata": {},
   "outputs": [],
   "source": [
    "options = ModelOptions(\n",
    "    builder_label=\"MobileNet\",\n",
    "    ingest_dense=64,\n",
    "    output_dense=8,\n",
    "    model_nn=35,\n",
    "    trainable_from_index=35,\n",
    "    epochs=1,\n",
    "    batch_size=1)\n",
    "\n",
    "model_builder = MobileNetBuilder(options)"
   ]
  },
  {
   "cell_type": "code",
   "execution_count": 5,
   "metadata": {},
   "outputs": [],
   "source": [
    "def _experiment_folder(model_builder: BaseModelBuilder):\n",
    "    options = model_builder.get_options()\n",
    "    label = options.builder_label\n",
    "    representation = options.representation()\n",
    "\n",
    "    experiment_folder = f\"Data/{label}/{representation}\"\n",
    "    os.makedirs(experiment_folder, exist_ok=True)\n",
    "\n",
    "    return experiment_folder\n",
    "\n",
    "def _load_recall_locations(drone_provider: MapProvider, location_count: int = 1500):\n",
    "    save_folder = \"Experiments/runtime_files/recall-locations\"\n",
    "    os.makedirs(save_folder, exist_ok=True)\n",
    "\n",
    "    file = f\"{save_folder}/size{location_count}-{drone_provider.projection}.npy\"\n",
    "    if os.path.isfile(file):\n",
    "        return np.load(file)\n",
    "\n",
    "    locations = drone_provider.generate_random_locations(location_count)\n",
    "    np.save(file, locations)\n",
    "    \n",
    "    return locations"
   ]
  },
  {
   "cell_type": "code",
   "execution_count": 6,
   "metadata": {},
   "outputs": [
    {
     "name": "stdout",
     "output_type": "stream",
     "text": [
      "Loading image: City/NewCut/City_2017.jpg\n"
     ]
    }
   ],
   "source": [
    "city_image = ImageProvider(image_path=\"City/NewCut/City_2017.jpg\")\n",
    "drone_image = ImageProvider(image_path=\"City/NewCut/City_2016.jpg\")\n",
    "\n",
    "projection = ImageProjection(\n",
    "    position=Vector2D(8000, 8000),\n",
    "    size=Vector2D(5000, 5000))\n",
    "\n",
    "city_provider = MapProvider(\n",
    "    image_provider=city_image,\n",
    "    crop_size=672,\n",
    "    projection=projection)\n",
    "\n",
    "drone_provider = MapProvider(\n",
    "    image_provider=drone_image,\n",
    "    crop_size=672,\n",
    "    projection=projection)"
   ]
  },
  {
   "cell_type": "code",
   "execution_count": null,
   "metadata": {},
   "outputs": [
    {
     "name": "stderr",
     "output_type": "stream",
     "text": [
      "Creating recommendation db: 100%|██████████| 31/31 [00:22<00:00,  1.39it/s]\n",
      "Processing recall locations: 100%|██████████| 1000/1000 [09:28<00:00,  1.76it/s]"
     ]
    },
    {
     "name": "stdout",
     "output_type": "stream",
     "text": [
      "\n"
     ]
    },
    {
     "name": "stderr",
     "output_type": "stream",
     "text": [
      "\n"
     ]
    }
   ],
   "source": [
    "#21m 6 threaded\n",
    "\n",
    "runner_options = RecallRunnerOptions(\n",
    "    model_builder=model_builder,\n",
    "    city_map=city_provider,\n",
    "    drone_map=drone_provider,\n",
    "    top=5,\n",
    "    step_size=25,\n",
    "    relevant_distance=50,\n",
    "    drone_locations=_load_recall_locations(drone_provider, 1000))\n",
    "\n",
    "runner = RecalRunner(runner_options)\n",
    "stats = runner.run()"
   ]
  },
  {
   "cell_type": "code",
   "execution_count": null,
   "metadata": {},
   "outputs": [],
   "source": [
    "saver_options = RecallSaverOptions(\n",
    "    city_map=city_provider,\n",
    "    drone_map=drone_provider,\n",
    "    save_samples=(4, 4))\n",
    "\n",
    "saver = RecallSaver(_experiment_folder(model_builder), saver_options)\n",
    "saver.save(stats)"
   ]
  }
 ],
 "metadata": {
  "interpreter": {
   "hash": "f9f85f796d01129d0dd105a088854619f454435301f6ffec2fea96ecbd9be4ac"
  },
  "kernelspec": {
   "display_name": "Python 3.9.12 64-bit",
   "language": "python",
   "name": "python3"
  },
  "language_info": {
   "codemirror_mode": {
    "name": "ipython",
    "version": 3
   },
   "file_extension": ".py",
   "mimetype": "text/x-python",
   "name": "python",
   "nbconvert_exporter": "python",
   "pygments_lexer": "ipython3",
   "version": "3.9.12"
  },
  "orig_nbformat": 4
 },
 "nbformat": 4,
 "nbformat_minor": 2
}
