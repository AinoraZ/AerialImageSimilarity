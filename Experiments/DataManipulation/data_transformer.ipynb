{
 "cells": [
  {
   "cell_type": "code",
   "execution_count": 1,
   "metadata": {},
   "outputs": [
    {
     "name": "stdout",
     "output_type": "stream",
     "text": [
      "d:\\University\\Bachelor\\Code\n"
     ]
    }
   ],
   "source": [
    "%cd ../.."
   ]
  },
  {
   "cell_type": "code",
   "execution_count": 2,
   "metadata": {},
   "outputs": [],
   "source": [
    "from PIL import Image\n",
    "import cv2\n",
    "import numpy as np\n",
    "from matplotlib.pyplot import imshow\n",
    "from IPython.display import display\n",
    "\n",
    "from image_provider import ImageProvider"
   ]
  },
  {
   "cell_type": "code",
   "execution_count": 36,
   "metadata": {},
   "outputs": [],
   "source": [
    "image2016 = \"City/miestas_2016.jpg\"\n",
    "image2017 = \"City/miestas_2017.jpg\"\n",
    "image2019 = \"City/miestas_2019.jpg\"\n",
    "\n",
    "image_paths = [image2016, image2017, image2019]\n",
    "\n",
    "new_names = [\n",
    "  \"City/NewCut/City_2016.jpg\",\n",
    "  \"City/NewCut/City_2017.jpg\",\n",
    "  \"City/NewCut/City_2019.jpg\"\n",
    "]"
   ]
  },
  {
   "cell_type": "code",
   "execution_count": 4,
   "metadata": {},
   "outputs": [],
   "source": [
    "images_np = []\n",
    "\n",
    "for image_path in image_paths:\n",
    "    image = ImageProvider(image_path).get_image()\n",
    "\n",
    "    image_np = np.asarray(image)\n",
    "    images_np.append(image_np)\n",
    "\n",
    "    image.close()"
   ]
  },
  {
   "cell_type": "code",
   "execution_count": 38,
   "metadata": {},
   "outputs": [],
   "source": [
    "x = 6200\n",
    "y = 6200\n",
    "size_x = 34000 - x\n",
    "size_y = 34000 - y\n",
    "\n",
    "(left, top, right, bottom) = (x, y, x + size_x, y + size_y)\n",
    "\n",
    "for (image_np, new_name) in zip(images_np, new_names):\n",
    "    cropped_image = image_np[top:bottom, left:right]\n",
    "    # resized_image = cv2.resize(cropped_image, (896, 896), interpolation = cv2.INTER_AREA)\n",
    "\n",
    "    new_image = Image.fromarray(cropped_image)\n",
    "    new_image.save(new_name, format='JPEG', subsampling=0, quality=100)\n",
    "\n"
   ]
  }
 ],
 "metadata": {
  "interpreter": {
   "hash": "0f6565be54caa39110cc0a8750e6beb2f990cd59afcdd03f8e8ec57c90279928"
  },
  "kernelspec": {
   "display_name": "Python 3.9.10 ('tf-gpu')",
   "language": "python",
   "name": "python3"
  },
  "language_info": {
   "codemirror_mode": {
    "name": "ipython",
    "version": 3
   },
   "file_extension": ".py",
   "mimetype": "text/x-python",
   "name": "python",
   "nbconvert_exporter": "python",
   "pygments_lexer": "ipython3",
   "version": "3.9.10"
  },
  "orig_nbformat": 4
 },
 "nbformat": 4,
 "nbformat_minor": 2
}
