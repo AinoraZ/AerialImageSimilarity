{
 "cells": [
  {
   "cell_type": "code",
   "execution_count": null,
   "metadata": {},
   "outputs": [],
   "source": [
    "%cd ../.."
   ]
  },
  {
   "cell_type": "code",
   "execution_count": null,
   "metadata": {},
   "outputs": [],
   "source": [
    "from PIL import Image\n",
    "import cv2\n",
    "import numpy as np\n",
    "from matplotlib.pyplot import imshow\n",
    "from IPython.display import display\n",
    "from vector import Vector2D\n",
    "from dataclasses import dataclass\n",
    "\n",
    "from image_provider import ImageProvider"
   ]
  },
  {
   "cell_type": "code",
   "execution_count": null,
   "metadata": {},
   "outputs": [],
   "source": [
    "# image2016 = \"City/miestas_2016.jpg\"\n",
    "# image2017 = \"City/miestas_2017.jpg\"\n",
    "# image2019 = \"City/miestas_2019.jpg\"\n",
    "\n",
    "# image_paths = [image2016, image2017, image2019]"
   ]
  },
  {
   "cell_type": "code",
   "execution_count": null,
   "metadata": {},
   "outputs": [],
   "source": [
    "image_paths = [\n",
    "  # \"City/miestas_2016.jpg\",\n",
    "  # \"City/miestas_2017.jpg\",\n",
    "  # \"City/miestas_2019.jpg\",\n",
    "  # \"City/NewCut/City_2016.jpg\",\n",
    "  # \"City/NewCut/City_2017.jpg\",\n",
    "  # \"City/NewCut/City_2019.jpg\",\n",
    "  \"City/NewTraining/ExperimentZone/City_2016.jpg\",\n",
    "  \"City/NewTraining/ExperimentZone/City_2017.jpg\",\n",
    "  \"City/NewTraining/ExperimentZone/City_2019.jpg\",\n",
    "]"
   ]
  },
  {
   "cell_type": "code",
   "execution_count": null,
   "metadata": {},
   "outputs": [],
   "source": [
    "@dataclass\n",
    "class ImageData():\n",
    "    image_np: np.ndarray\n",
    "    size: Vector2D\n",
    "    filename: str"
   ]
  },
  {
   "cell_type": "code",
   "execution_count": null,
   "metadata": {},
   "outputs": [],
   "source": [
    "images: list[ImageData] = []\n",
    "\n",
    "for image_path in image_paths:\n",
    "    image = ImageProvider(image_path).get_image()\n",
    "\n",
    "    width, height = image.size\n",
    "    image_np = np.asarray(image)\n",
    "    image.close()\n",
    "\n",
    "    images.append(ImageData(image_np, Vector2D(width, height), image_path))"
   ]
  },
  {
   "cell_type": "code",
   "execution_count": null,
   "metadata": {},
   "outputs": [],
   "source": [
    "def show_whole_map():\n",
    "    for image in images:\n",
    "        resized_image = cv2.resize(image.image_np, (800, 800), interpolation = cv2.INTER_AREA)\n",
    "        display(Image.fromarray(resized_image))\n",
    "\n",
    "show_whole_map()"
   ]
  },
  {
   "cell_type": "code",
   "execution_count": null,
   "metadata": {},
   "outputs": [],
   "source": [
    "x = 2500\n",
    "y = 5000\n",
    "size_x = 672\n",
    "size_y = 672\n",
    "\n",
    "for index, image in enumerate(images):\n",
    "    inverted_y = image.size.y - y\n",
    "\n",
    "    half_x = int(size_x / 2)\n",
    "    half_y = int(size_y / 2)\n",
    "\n",
    "    (left, top, right, bottom) = (x - half_x, inverted_y - half_y, x + half_x, inverted_y + half_y)\n",
    "\n",
    "    cropped_image = image.image_np[top:bottom, left:right]\n",
    "    print(cropped_image.shape)\n",
    "    resized_image = cv2.resize(cropped_image, (224, 224), interpolation = cv2.INTER_AREA)\n",
    "\n",
    "    actual_image = Image.fromarray(resized_image)\n",
    "    actual_image.save(f\"Data/ExampleImage{index}.jpg\")\n",
    "\n",
    "    display(Image.fromarray(resized_image))"
   ]
  }
 ],
 "metadata": {
  "interpreter": {
   "hash": "f9f85f796d01129d0dd105a088854619f454435301f6ffec2fea96ecbd9be4ac"
  },
  "kernelspec": {
   "display_name": "Python 3.9.12 64-bit",
   "language": "python",
   "name": "python3"
  },
  "language_info": {
   "codemirror_mode": {
    "name": "ipython",
    "version": 3
   },
   "file_extension": ".py",
   "mimetype": "text/x-python",
   "name": "python",
   "nbconvert_exporter": "python",
   "pygments_lexer": "ipython3",
   "version": "3.9.12"
  },
  "orig_nbformat": 4
 },
 "nbformat": 4,
 "nbformat_minor": 2
}
