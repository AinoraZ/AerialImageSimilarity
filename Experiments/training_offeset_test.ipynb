{
 "cells": [
  {
   "cell_type": "code",
   "execution_count": 1,
   "metadata": {},
   "outputs": [
    {
     "name": "stdout",
     "output_type": "stream",
     "text": [
      "/workspaces/Code\n"
     ]
    }
   ],
   "source": [
    "%cd .."
   ]
  },
  {
   "cell_type": "code",
   "execution_count": 2,
   "metadata": {},
   "outputs": [
    {
     "name": "stderr",
     "output_type": "stream",
     "text": [
      "/usr/local/lib/python3.9/dist-packages/tqdm/auto.py:22: TqdmWarning: IProgress not found. Please update jupyter and ipywidgets. See https://ipywidgets.readthedocs.io/en/stable/user_install.html\n",
      "  from .autonotebook import tqdm as notebook_tqdm\n"
     ]
    }
   ],
   "source": [
    "%matplotlib inline\n",
    "\n",
    "from __future__ import annotations\n",
    "import os\n",
    "\n",
    "import tensorflow as tf\n",
    "from ModelBuilders import TestVgg16NetBuilder, TestMobileNetBuilder, TestResNetBuilder, ModelOptions, BaseModelBuilder\n",
    "\n",
    "from map_provider import ImageProvider, ImageProjection, MapProvider\n",
    "from ExperimentRunners.OffsetRunner import OffsetRunnerOptions, OffsetRunner, OffsetDataSaver\n",
    "\n",
    "from ExperimentRunners.OffsetRunner.Models import ReferencePoint\n",
    "from vector import Vector2D\n",
    "\n",
    "from color_generator import ColorGenerator"
   ]
  },
  {
   "cell_type": "code",
   "execution_count": 3,
   "metadata": {},
   "outputs": [],
   "source": [
    "os.environ['TF_CPP_MIN_LOG_LEVEL'] = '1'"
   ]
  },
  {
   "cell_type": "code",
   "execution_count": 47,
   "metadata": {},
   "outputs": [],
   "source": [
    "thresh = 0.7043\n",
    "model_builder = TestVgg16NetBuilder()\n",
    "\n",
    "# thresh = 0.6914\n",
    "# model_builder = TestMobileNetBuilder()\n",
    "\n",
    "# thresh = 0.7352\n",
    "# options = ModelOptions(\n",
    "#     builder_label=\"Experimental/NewTraining/ResNet50\",\n",
    "#     model_nn=50,\n",
    "#     ingest_dense=128,\n",
    "#     output_dense=8,\n",
    "#     trainable_from_index=0,\n",
    "#     epochs=6,\n",
    "#     batch_size=16,\n",
    "# )\n",
    "\n",
    "# model_builder = TestResNetBuilder(options)"
   ]
  },
  {
   "cell_type": "code",
   "execution_count": 4,
   "metadata": {},
   "outputs": [],
   "source": [
    "def _experiment_folder(model_builder: BaseModelBuilder):\n",
    "    options = model_builder.get_options()\n",
    "    label = options.builder_label\n",
    "    representation = options.representation()\n",
    "\n",
    "    experiment_folder = f\"Data/ExampleOffset/{label}/{representation}\"\n",
    "    os.makedirs(experiment_folder, exist_ok=True)\n",
    "\n",
    "    return experiment_folder"
   ]
  },
  {
   "cell_type": "code",
   "execution_count": 5,
   "metadata": {},
   "outputs": [],
   "source": [
    "def generate_reference_points():\n",
    "    reference_points = [\n",
    "        ReferencePoint(Vector2D(5881, 1656), 'miškai'),\n",
    "        ReferencePoint(Vector2D(15650, 24030), 'miškai'),\n",
    "        ReferencePoint(Vector2D(8650, 2000), 'miškai'),\n",
    "        ReferencePoint(Vector2D(5846, 4752), 'daugiabučiai'),\n",
    "        ReferencePoint(Vector2D(8046, 19828), 'daugiabučiai'),\n",
    "        ReferencePoint(Vector2D(3330, 9590), 'daugiabučiai'),\n",
    "        ReferencePoint(Vector2D(5310, 7960), 'daugiabučiai'),\n",
    "        ReferencePoint(Vector2D(2501, 3402), 'daugiabučiai'),\n",
    "        ReferencePoint(Vector2D(1973, 22699), 'pievos'),\n",
    "        ReferencePoint(Vector2D(4780, 4160), 'keliai'),\n",
    "        ReferencePoint(Vector2D(14130, 1500), 'keliai'),\n",
    "        ReferencePoint(Vector2D(24230, 10280), 'vandens telkiniai'),\n",
    "        ReferencePoint(Vector2D(9960, 16340), 'individualūs namai'),\n",
    "        ReferencePoint(Vector2D(7781, 5645), 'miškai, keliai'),\n",
    "        ReferencePoint(Vector2D(25000, 24570), 'miškai, keliai'),\n",
    "        ReferencePoint(Vector2D(18543, 9141), 'miškai, daugiabučiai'),\n",
    "        ReferencePoint(Vector2D(9250, 20580), 'daugiabučiai, keliai'),\n",
    "        ReferencePoint(Vector2D(25678, 13083), 'daugiabučiai, individualūs namai'),\n",
    "        ReferencePoint(Vector2D(3298, 25260), 'keliai, pievos'),\n",
    "        ReferencePoint(Vector2D(2013, 3788), 'keliai, individualūs namai'),\n",
    "    ]\n",
    "\n",
    "    return reference_points"
   ]
  },
  {
   "cell_type": "code",
   "execution_count": 7,
   "metadata": {},
   "outputs": [
    {
     "name": "stdout",
     "output_type": "stream",
     "text": [
      "Loading image: City/NewCut/City_2017.jpg\n",
      "Loading image: City/NewCut/City_2016.jpg\n"
     ]
    }
   ],
   "source": [
    "city_image = ImageProvider(image_path=\"City/NewCut/City_2017.jpg\")\n",
    "drone_image = ImageProvider(image_path=\"City/NewCut/City_2016.jpg\")\n",
    "\n",
    "projection = ImageProjection(\n",
    "    position=Vector2D(8000, 8000),\n",
    "    size=Vector2D(6000, 6000))\n",
    "\n",
    "city_provider = MapProvider(\n",
    "    image_provider=city_image,\n",
    "    crop_size=672,\n",
    "    projection=None)\n",
    "\n",
    "drone_provider = MapProvider(\n",
    "    image_provider=drone_image,\n",
    "    crop_size=672,\n",
    "    projection=None)"
   ]
  },
  {
   "cell_type": "code",
   "execution_count": 48,
   "metadata": {},
   "outputs": [
    {
     "name": "stdout",
     "output_type": "stream",
     "text": [
      "Running offset runner tests\n"
     ]
    },
    {
     "name": "stderr",
     "output_type": "stream",
     "text": [
      "Running point offsets: 100%|██████████| 20/20 [00:56<00:00,  2.83s/it]"
     ]
    },
    {
     "name": "stdout",
     "output_type": "stream",
     "text": [
      "\n"
     ]
    },
    {
     "name": "stderr",
     "output_type": "stream",
     "text": [
      "\n"
     ]
    }
   ],
   "source": [
    "options = OffsetRunnerOptions(\n",
    "    model_builder=model_builder,\n",
    "    city_map=city_provider,\n",
    "    drone_map=drone_provider,\n",
    "    reference_points=generate_reference_points())\n",
    "\n",
    "offset_runner = OffsetRunner(options)\n",
    "stats = offset_runner.run()"
   ]
  },
  {
   "cell_type": "code",
   "execution_count": 49,
   "metadata": {},
   "outputs": [
    {
     "name": "stdout",
     "output_type": "stream",
     "text": [
      "Saving offset data\n"
     ]
    }
   ],
   "source": [
    "label_colors = {\n",
    "    'daugiabučiai': '#8e44ad',\n",
    "    'keliai': '#34495e',\n",
    "    'individualūs namai': '#c0392b',\n",
    "    'pievos': '#f1c40f',\n",
    "    'miškai': '#16a085',\n",
    "    'vandens telkiniai': '#3498db',\n",
    "}\n",
    "\n",
    "color_generator = ColorGenerator(\"#2c3e50\", label_colors)\n",
    "\n",
    "offset_saver = OffsetDataSaver(_experiment_folder(model_builder), offset_runner.target_distances, color_generator, thresh)\n",
    "offset_saver.save(stats)"
   ]
  }
 ],
 "metadata": {
  "interpreter": {
   "hash": "f9f85f796d01129d0dd105a088854619f454435301f6ffec2fea96ecbd9be4ac"
  },
  "kernelspec": {
   "display_name": "Python 3.9.12 64-bit",
   "language": "python",
   "name": "python3"
  },
  "language_info": {
   "codemirror_mode": {
    "name": "ipython",
    "version": 3
   },
   "file_extension": ".py",
   "mimetype": "text/x-python",
   "name": "python",
   "nbconvert_exporter": "python",
   "pygments_lexer": "ipython3",
   "version": "3.9.12"
  },
  "orig_nbformat": 4
 },
 "nbformat": 4,
 "nbformat_minor": 2
}
