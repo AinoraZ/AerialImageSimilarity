{
 "cells": [
  {
   "cell_type": "code",
   "execution_count": 1,
   "metadata": {},
   "outputs": [
    {
     "name": "stdout",
     "output_type": "stream",
     "text": [
      "/workspaces/Code\n"
     ]
    }
   ],
   "source": [
    "%cd ../../.."
   ]
  },
  {
   "cell_type": "code",
   "execution_count": 2,
   "metadata": {},
   "outputs": [],
   "source": [
    "from __future__ import annotations\n",
    "\n",
    "import math\n",
    "import gc\n",
    "from typing import Iterator\n",
    "import multiprocessing\n",
    "from PIL import Image\n",
    "import os\n",
    "\n",
    "from image_provider import ImageProvider\n",
    "from test_runner import TestRun\n",
    "from map_provider import MapProvider, ImageProjection\n",
    "from DroneProvider import SimulatedDroneProvider\n",
    "from vector import Vector2D"
   ]
  },
  {
   "cell_type": "code",
   "execution_count": 3,
   "metadata": {},
   "outputs": [],
   "source": [
    "crop_size = 448\n",
    "accuracy_threshold = 25\n",
    "particle_count = 100\n",
    "particle_randomize_percent = 0\n",
    "\n",
    "drone_last_known_noise = 50\n",
    "initial_location_offset = 25\n",
    "\n",
    "repeat_count = 10\n",
    "drone_steps = 25\n",
    "graph_size = 1200"
   ]
  },
  {
   "cell_type": "code",
   "execution_count": 4,
   "metadata": {},
   "outputs": [],
   "source": [
    "def get_distance_at_45d(distance: int) -> int:\n",
    "    coord = math.sqrt(math.pow(distance, 2) / 2)\n",
    "    return math.floor(coord)\n",
    "\n",
    "def build_drones(crop_size: int) -> Iterator[TestRun]:\n",
    "    #6024x6024\n",
    "    city_image = ImageProvider(\"City/NewTraining/ExperimentZone/City_2017.jpg\")\n",
    "    drone_image = ImageProvider(\"City/NewTraining/ExperimentZone/City_2016.jpg\")\n",
    "\n",
    "    projection = ImageProjection(Vector2D(0, 524), Vector2D(5000, 5000))\n",
    "    city_map = MapProvider(\n",
    "        image_provider=city_image,\n",
    "        crop_size=crop_size,\n",
    "        projection=projection)\n",
    "    \n",
    "    drone_map = MapProvider(\n",
    "        image_provider=drone_image,\n",
    "        crop_size=crop_size,\n",
    "        projection=projection)\n",
    "    \n",
    "    run_name = \"Forest\"\n",
    "    for move_by in [60, 100]:\n",
    "        yield TestRun(run_name, SimulatedDroneProvider(drone_map, Vector2D(1000, 2500), Vector2D(move_by, 0), drone_steps), city_map)\n",
    "\n",
    "    projection = ImageProjection(Vector2D(524, 0), Vector2D(5000, 5000))\n",
    "    city_map = MapProvider(\n",
    "        image_provider=city_image,\n",
    "        crop_size=crop_size,\n",
    "        projection=projection)\n",
    "    \n",
    "    drone_map = MapProvider(\n",
    "        image_provider=drone_image,\n",
    "        crop_size=crop_size,\n",
    "        projection=projection)\n",
    "    \n",
    "    run_name = \"Residential\"\n",
    "    for move_by in [60, 100]:\n",
    "        move_by_side = get_distance_at_45d(move_by)\n",
    "        yield TestRun(run_name, SimulatedDroneProvider(drone_map, Vector2D(2500, 1000), Vector2D(move_by_side, move_by_side), drone_steps), city_map)\n",
    "\n",
    "    projection = ImageProjection(Vector2D(0, 1000), Vector2D(5000, 5000))\n",
    "    city_map = MapProvider(\n",
    "        image_provider=city_image,\n",
    "        crop_size=crop_size,\n",
    "        projection=projection)\n",
    "    \n",
    "    drone_map = MapProvider(\n",
    "        image_provider=drone_image,\n",
    "        crop_size=crop_size,\n",
    "        projection=projection)\n",
    "    \n",
    "    run_name = \"Apartments\"\n",
    "    for move_by in [60, 100]:\n",
    "        yield TestRun(run_name, SimulatedDroneProvider(drone_map, Vector2D(2500, 4000), Vector2D(0, -move_by), drone_steps), city_map)"
   ]
  },
  {
   "cell_type": "code",
   "execution_count": 5,
   "metadata": {},
   "outputs": [
    {
     "name": "stdout",
     "output_type": "stream",
     "text": [
      "Loading image: City/NewTraining/ExperimentZone/City_2017.jpg\n",
      "Loading image: City/NewTraining/ExperimentZone/City_2016.jpg\n"
     ]
    }
   ],
   "source": [
    "for drone_route in build_drones(crop_size):\n",
    "    route_name = drone_route.name\n",
    "    drone = drone_route.drone\n",
    "    city_map = drone_route.city_map\n",
    "\n",
    "    image_folder = f\"Data/ParticleFilter/Images/{crop_size}/{route_name}/{drone}\"\n",
    "    os.makedirs(image_folder, exist_ok=True)\n",
    "\n",
    "    while drone.has_step():\n",
    "        drone_position = drone.get_position()\n",
    "\n",
    "        drone_image = Image.fromarray(drone.grab_image())\n",
    "        city_image = Image.fromarray(city_map.get_cropped_image(drone_position.x, drone_position.y))\n",
    "\n",
    "        drone_image.save(f\"{image_folder}/{drone.get_current_step():02d}_drone.jpg\")\n",
    "        city_image.save(f\"{image_folder}/{drone.get_current_step():02d}_city.jpg\")\n",
    "\n",
    "        drone.move_step()\n",
    "\n"
   ]
  }
 ],
 "metadata": {
  "interpreter": {
   "hash": "f9f85f796d01129d0dd105a088854619f454435301f6ffec2fea96ecbd9be4ac"
  },
  "kernelspec": {
   "display_name": "Python 3.9.12 64-bit",
   "language": "python",
   "name": "python3"
  },
  "language_info": {
   "codemirror_mode": {
    "name": "ipython",
    "version": 3
   },
   "file_extension": ".py",
   "mimetype": "text/x-python",
   "name": "python",
   "nbconvert_exporter": "python",
   "pygments_lexer": "ipython3",
   "version": "3.9.12"
  },
  "orig_nbformat": 4
 },
 "nbformat": 4,
 "nbformat_minor": 2
}
