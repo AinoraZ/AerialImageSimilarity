{
 "cells": [
  {
   "cell_type": "code",
   "execution_count": null,
   "metadata": {},
   "outputs": [],
   "source": [
    "%cd ../../.."
   ]
  },
  {
   "cell_type": "code",
   "execution_count": null,
   "metadata": {},
   "outputs": [],
   "source": [
    "import plotly.graph_objects as go\n",
    "import numpy as np"
   ]
  },
  {
   "cell_type": "code",
   "execution_count": null,
   "metadata": {},
   "outputs": [],
   "source": [
    "with open(\"Data/TrainingSD2-Split1.txt\", \"r\") as file:\n",
    "    lines = file.readlines()\n",
    "    lines = [line.replace(',', '.').strip().split(\"\\t\") for line in lines]\n",
    "\n",
    "data = []\n",
    "for index, line in enumerate(lines[1::]):\n",
    "    data.append(\n",
    "        {\n",
    "            'name': line[0],\n",
    "            'pos_avg': float(line[1]),\n",
    "            'pos_sd': float(line[2]),\n",
    "            'neg_avg': float(line[3]),\n",
    "            'neg_sd': float(line[4]),\n",
    "            'id': len(lines[1::]) - index\n",
    "        }\n",
    "    )"
   ]
  },
  {
   "cell_type": "code",
   "execution_count": null,
   "metadata": {},
   "outputs": [],
   "source": [
    "fig = go.Figure()\n",
    "for nn in data:\n",
    "    fig.add_trace(\n",
    "        go.Scatter(x=[nn['pos_avg']+ 2*nn['pos_sd'], nn['pos_avg']- 2*nn['pos_sd']], y=[nn['id'], nn['id']],\n",
    "            mode='lines',\n",
    "            line=dict(color='limegreen', width=2)))\n",
    "\n",
    "    fig.add_trace(\n",
    "        go.Scatter(x=[nn['pos_avg']+nn['pos_sd'], nn['pos_avg']-nn['pos_sd']], y=[nn['id'], nn['id']],\n",
    "            mode='lines',\n",
    "            line=dict(color='green', width=4)))\n",
    "\n",
    "    fig.add_trace(\n",
    "        go.Scatter(x=[nn['pos_avg']], y=[nn['id']],\n",
    "            mode='markers+text',\n",
    "            name=nn['name'],\n",
    "            text=nn['name'],\n",
    "            marker=dict(color='darkgreen', size=[10]),\n",
    "            textposition=\"bottom right\"))\n",
    "\n",
    "\n",
    "    fig.add_trace(\n",
    "        go.Scatter(x=[nn['neg_avg']+ 2*nn['neg_sd'], nn['neg_avg']- 2*nn['neg_sd']], y=[nn['id'], nn['id']],\n",
    "            mode='lines',\n",
    "            line=dict(color='orangered', width=2)))\n",
    "\n",
    "    fig.add_trace(\n",
    "        go.Scatter(x=[nn['neg_avg']+nn['neg_sd'], nn['neg_avg']-nn['neg_sd']], y=[nn['id'], nn['id']],\n",
    "            mode='lines',\n",
    "            line=dict(color='red', width=4)))\n",
    "\n",
    "    fig.add_trace(\n",
    "        go.Scatter(x=[nn['neg_avg']], y=[nn['id']],\n",
    "            mode='markers',\n",
    "            name=nn['name'],\n",
    "            text=nn['name'],\n",
    "            marker=dict(color='darkred', size=[10]),\n",
    "            textposition=\"bottom right\"))\n",
    "\n",
    "fig.update_xaxes(title = 'Atstumai d(t, a) ir d(n, a)', range=[0., 0.6], autorange=False)\n",
    "# fig.update_yaxes(range=[min(data, key = lambda t: t['id'])['id']-1, max(data, key = lambda t: t['id'])['id']+1], autorange = False)\n",
    "\n",
    "fig.update_layout(margin=dict(l=30, r=30, t=30, b=30), font=dict(family=\"Times New Roman\", size=12))\n",
    "fig.update_layout(width = 400, height = 600, title = \"\")\n",
    "fig.update_layout(template='simple_white', showlegend=False)\n",
    "fig.update_layout(yaxis_visible=False)\n",
    "fig.write_image(\"Data/models2-2.png\", scale=2)\n",
    "fig.show()"
   ]
  }
 ],
 "metadata": {
  "interpreter": {
   "hash": "f9f85f796d01129d0dd105a088854619f454435301f6ffec2fea96ecbd9be4ac"
  },
  "kernelspec": {
   "display_name": "Python 3.9.12 64-bit",
   "language": "python",
   "name": "python3"
  },
  "language_info": {
   "codemirror_mode": {
    "name": "ipython",
    "version": 3
   },
   "file_extension": ".py",
   "mimetype": "text/x-python",
   "name": "python",
   "nbconvert_exporter": "python",
   "pygments_lexer": "ipython3",
   "version": "3.9.12"
  },
  "orig_nbformat": 4
 },
 "nbformat": 4,
 "nbformat_minor": 2
}
