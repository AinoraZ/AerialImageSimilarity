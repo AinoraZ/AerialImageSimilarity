{
 "cells": [
  {
   "cell_type": "code",
   "execution_count": 1,
   "metadata": {},
   "outputs": [
    {
     "name": "stdout",
     "output_type": "stream",
     "text": [
      "/workspaces/Code\n"
     ]
    }
   ],
   "source": [
    "%cd ../../.."
   ]
  },
  {
   "cell_type": "code",
   "execution_count": 2,
   "metadata": {},
   "outputs": [
    {
     "name": "stderr",
     "output_type": "stream",
     "text": [
      "/usr/local/lib/python3.9/dist-packages/tqdm/auto.py:22: TqdmWarning: IProgress not found. Please update jupyter and ipywidgets. See https://ipywidgets.readthedocs.io/en/stable/user_install.html\n",
      "  from .autonotebook import tqdm as notebook_tqdm\n"
     ]
    }
   ],
   "source": [
    "%matplotlib inline\n",
    "\n",
    "from __future__ import annotations\n",
    "from dataclasses import dataclass\n",
    "import os\n",
    "import gc\n",
    "import tensorflow as tf\n",
    "\n",
    "from Training import NewDataModelTrainer\n",
    "from ModelBuilders import TestMobileNetBuilder, TestEfficientNetB2Builder, TestEfficientNetB0Builder, TestResNetBuilder, TestVgg16NetBuilder, ModelOptions\n",
    "from itertools import product\n",
    "import multiprocessing"
   ]
  },
  {
   "cell_type": "code",
   "execution_count": 3,
   "metadata": {},
   "outputs": [],
   "source": [
    "def enable_gpu_memory_growth():\n",
    "    \"\"\"\n",
    "    Enables memory growth mode for GPUs.\n",
    "    \"\"\"\n",
    "    gpus = tf.config.experimental.list_physical_devices('GPU')\n",
    "    assert len(gpus) > 0, \"No GPUs detected!\"\n",
    "            \n",
    "    for gpu in gpus:\n",
    "        tf.config.experimental.set_memory_growth(gpu, True)"
   ]
  },
  {
   "cell_type": "code",
   "execution_count": 4,
   "metadata": {},
   "outputs": [],
   "source": [
    "@dataclass\n",
    "class ModelNN:\n",
    "    modelNN: int\n",
    "    trainable_froms: list[int]\n",
    "\n",
    "@dataclass\n",
    "class BuilderTests:\n",
    "    def __init__(self, \n",
    "        ingest_denses: list[int],\n",
    "        output_denses: list[int],\n",
    "        modelNNs: list[ModelNN],\n",
    "        epochs_list: list[int],\n",
    "        batch_list: list[int],\n",
    "        builder_label: str):\n",
    "\n",
    "        self.ingest_denses = ingest_denses\n",
    "        self.output_denses = output_denses\n",
    "        self.modelNNs = modelNNs\n",
    "        self.epochs_list = epochs_list\n",
    "        self.batch_list = batch_list\n",
    "\n",
    "        self.builder_label = builder_label\n",
    "        \n",
    "    def generate_options(self):\n",
    "        tests = product(self.ingest_denses, self.output_denses, self.modelNNs, self.epochs_list, self.batch_list)\n",
    "\n",
    "        for ingest_dense, output_dense, modellNN, epochs, batch_size in tests:\n",
    "            for trainable_from in modellNN.trainable_froms:\n",
    "                if trainable_from > modellNN.modelNN:\n",
    "                    continue\n",
    "\n",
    "                yield ModelOptions(\n",
    "                    builder_label=self.builder_label,\n",
    "                    model_nn=modellNN.modelNN,\n",
    "                    ingest_dense=ingest_dense,\n",
    "                    output_dense=output_dense,\n",
    "                    trainable_from_index=trainable_from,\n",
    "                    epochs=epochs,\n",
    "                    batch_size=batch_size)\n"
   ]
  },
  {
   "cell_type": "code",
   "execution_count": 5,
   "metadata": {},
   "outputs": [
    {
     "name": "stdout",
     "output_type": "stream",
     "text": [
      "nn35-train35-id64-od8-e6-b16\n",
      "nn35-train24-id64-od8-e6-b16\n",
      "nn35-train0-id64-od8-e6-b16\n",
      "nn54-train54-id64-od8-e6-b16\n",
      "nn54-train35-id64-od8-e6-b16\n",
      "nn54-train0-id64-od8-e6-b16\n",
      "nn72-train72-id64-od8-e6-b16\n",
      "nn72-train60-id64-od8-e6-b16\n",
      "nn72-train35-id64-od8-e6-b16\n",
      "nn72-train0-id64-od8-e6-b16\n"
     ]
    }
   ],
   "source": [
    "mobile_tests = BuilderTests(\n",
    "    ingest_denses=[64],\n",
    "    output_denses=[8],\n",
    "    modelNNs=[\n",
    "        ModelNN(35, [35, 24, 0]),\n",
    "        ModelNN(54, [54, 35, 0]),\n",
    "        ModelNN(72, [72, 60, 35, 0]),\n",
    "    ],\n",
    "    epochs_list=[6],\n",
    "    batch_list=[16],\n",
    "    builder_label=\"Experimental/NewTraining/MobileNet\")\n",
    "\n",
    "for test in mobile_tests.generate_options():\n",
    "    print(test.representation())\n",
    "\n",
    "def run_mobile_net(options):\n",
    "    os.environ['TF_CPP_MIN_LOG_LEVEL'] = '1'\n",
    "    enable_gpu_memory_growth()\n",
    "\n",
    "    model_builder = TestMobileNetBuilder(options)\n",
    "    model_trainer = NewDataModelTrainer()\n",
    "\n",
    "    model_trainer.run(model_builder)\n",
    "\n",
    "    tf.keras.backend.clear_session()\n",
    "    gc.collect()\n",
    "    print(\"-\" * 80)"
   ]
  },
  {
   "cell_type": "code",
   "execution_count": 6,
   "metadata": {},
   "outputs": [
    {
     "name": "stdout",
     "output_type": "stream",
     "text": [
      "Now testing... Experimental/NewTraining/MobileNet nn35-train35-id64-od8-e6-b16\n",
      "Experiments already complete. Remove the '.complete' file for re-run\n",
      "--------------------------------------------------------------------------------\n",
      "Now testing... Experimental/NewTraining/MobileNet nn35-train24-id64-od8-e6-b16\n",
      "Experiments already complete. Remove the '.complete' file for re-run\n",
      "--------------------------------------------------------------------------------\n",
      "Now testing... Experimental/NewTraining/MobileNet nn35-train0-id64-od8-e6-b16\n",
      "Experiments already complete. Remove the '.complete' file for re-run\n",
      "--------------------------------------------------------------------------------\n",
      "Now testing... Experimental/NewTraining/MobileNet nn54-train54-id64-od8-e6-b16\n",
      "Experiments already complete. Remove the '.complete' file for re-run\n",
      "--------------------------------------------------------------------------------\n",
      "Now testing... Experimental/NewTraining/MobileNet nn54-train35-id64-od8-e6-b16\n",
      "Experiments already complete. Remove the '.complete' file for re-run\n",
      "--------------------------------------------------------------------------------\n",
      "Now testing... Experimental/NewTraining/MobileNet nn54-train0-id64-od8-e6-b16\n",
      "Experiments already complete. Remove the '.complete' file for re-run\n",
      "--------------------------------------------------------------------------------\n",
      "Now testing... Experimental/NewTraining/MobileNet nn72-train72-id64-od8-e6-b16\n",
      "Experiments already complete. Remove the '.complete' file for re-run\n",
      "--------------------------------------------------------------------------------\n",
      "Now testing... Experimental/NewTraining/MobileNet nn72-train60-id64-od8-e6-b16\n",
      "Experiments already complete. Remove the '.complete' file for re-run\n",
      "--------------------------------------------------------------------------------\n",
      "Now testing... Experimental/NewTraining/MobileNet nn72-train35-id64-od8-e6-b16\n",
      "Experiments already complete. Remove the '.complete' file for re-run\n",
      "--------------------------------------------------------------------------------\n",
      "Now testing... Experimental/NewTraining/MobileNet nn72-train0-id64-od8-e6-b16\n",
      "Experiments already complete. Remove the '.complete' file for re-run\n",
      "--------------------------------------------------------------------------------\n"
     ]
    }
   ],
   "source": [
    "for options in mobile_tests.generate_options():\n",
    "    p1 = multiprocessing.Process(target=run_mobile_net, args=[options])\n",
    "\n",
    "    p1.start()\n",
    "    p1.join()"
   ]
  },
  {
   "cell_type": "code",
   "execution_count": 7,
   "metadata": {},
   "outputs": [
    {
     "name": "stdout",
     "output_type": "stream",
     "text": [
      "nn30-train0-id64-od8-e6-b16\n",
      "nn30-train19-id64-od8-e6-b16\n",
      "nn30-train30-id64-od8-e6-b16\n",
      "nn71-train0-id64-od8-e6-b16\n",
      "nn71-train30-id64-od8-e6-b16\n",
      "nn71-train71-id64-od8-e6-b16\n",
      "nn140-train140-id64-od8-e6-b16\n",
      "nn140-train71-id64-od8-e6-b16\n",
      "nn140-train0-id64-od8-e6-b16\n",
      "nn254-train254-id64-od8-e6-b16\n",
      "nn254-train0-id64-od8-e6-b16\n"
     ]
    }
   ],
   "source": [
    "efficient_b0_tests = BuilderTests(\n",
    "    ingest_denses=[64],\n",
    "    output_denses=[8],\n",
    "    modelNNs=[\n",
    "        ModelNN(30, [0, 19, 30]), \n",
    "        ModelNN(71, [0, 30, 71]), \n",
    "        ModelNN(140, [140, 71, 0]),\n",
    "        ModelNN(254, [254, 0]),\n",
    "    ],\n",
    "    epochs_list=[6],\n",
    "    batch_list=[16],\n",
    "    builder_label=\"Experimental/NewTraining/EfficientNetV2B0\")\n",
    "\n",
    "for test in efficient_b0_tests.generate_options():\n",
    "    print(test.representation())\n",
    "\n",
    "def run_efficient_net(options):\n",
    "    os.environ['TF_CPP_MIN_LOG_LEVEL'] = '1'\n",
    "\n",
    "    enable_gpu_memory_growth()\n",
    "\n",
    "    model_builder = TestEfficientNetB0Builder(options)\n",
    "    model_trainer = NewDataModelTrainer()\n",
    "\n",
    "    model_trainer.run(model_builder)\n",
    "\n",
    "    tf.keras.backend.clear_session()\n",
    "    gc.collect()\n",
    "    print(\"-\" * 80)"
   ]
  },
  {
   "cell_type": "code",
   "execution_count": 8,
   "metadata": {},
   "outputs": [
    {
     "name": "stdout",
     "output_type": "stream",
     "text": [
      "Now testing... Experimental/NewTraining/EfficientNetV2B0 nn30-train0-id64-od8-e6-b16\n",
      "Experiments already complete. Remove the '.complete' file for re-run\n",
      "--------------------------------------------------------------------------------\n",
      "Now testing... Experimental/NewTraining/EfficientNetV2B0 nn30-train19-id64-od8-e6-b16\n",
      "Experiments already complete. Remove the '.complete' file for re-run\n",
      "--------------------------------------------------------------------------------\n",
      "Now testing... Experimental/NewTraining/EfficientNetV2B0 nn30-train30-id64-od8-e6-b16\n",
      "Experiments already complete. Remove the '.complete' file for re-run\n",
      "--------------------------------------------------------------------------------\n",
      "Now testing... Experimental/NewTraining/EfficientNetV2B0 nn71-train0-id64-od8-e6-b16\n",
      "Experiments already complete. Remove the '.complete' file for re-run\n",
      "--------------------------------------------------------------------------------\n",
      "Now testing... Experimental/NewTraining/EfficientNetV2B0 nn71-train30-id64-od8-e6-b16\n",
      "Experiments already complete. Remove the '.complete' file for re-run\n",
      "--------------------------------------------------------------------------------\n",
      "Now testing... Experimental/NewTraining/EfficientNetV2B0 nn71-train71-id64-od8-e6-b16\n",
      "Experiments already complete. Remove the '.complete' file for re-run\n",
      "--------------------------------------------------------------------------------\n",
      "Now testing... Experimental/NewTraining/EfficientNetV2B0 nn140-train140-id64-od8-e6-b16\n",
      "Experiments already complete. Remove the '.complete' file for re-run\n",
      "--------------------------------------------------------------------------------\n",
      "Now testing... Experimental/NewTraining/EfficientNetV2B0 nn140-train71-id64-od8-e6-b16\n",
      "Experiments already complete. Remove the '.complete' file for re-run\n",
      "--------------------------------------------------------------------------------\n",
      "Now testing... Experimental/NewTraining/EfficientNetV2B0 nn140-train0-id64-od8-e6-b16\n",
      "Experiments already complete. Remove the '.complete' file for re-run\n",
      "--------------------------------------------------------------------------------\n",
      "Now testing... Experimental/NewTraining/EfficientNetV2B0 nn254-train254-id64-od8-e6-b16\n",
      "Experiments already complete. Remove the '.complete' file for re-run\n",
      "--------------------------------------------------------------------------------\n",
      "Now testing... Experimental/NewTraining/EfficientNetV2B0 nn254-train0-id64-od8-e6-b16\n",
      "Experiments already complete. Remove the '.complete' file for re-run\n",
      "--------------------------------------------------------------------------------\n"
     ]
    }
   ],
   "source": [
    "for options in efficient_b0_tests.generate_options():\n",
    "    p1 = multiprocessing.Process(target=run_efficient_net, args=[options])\n",
    "\n",
    "    p1.start()\n",
    "    p1.join()"
   ]
  },
  {
   "cell_type": "code",
   "execution_count": 9,
   "metadata": {},
   "outputs": [
    {
     "name": "stdout",
     "output_type": "stream",
     "text": [
      "nn18-train18-id64-od8-e6-b4\n",
      "nn14-train14-id64-od8-e6-b4\n",
      "nn10-train10-id64-od8-e6-b4\n"
     ]
    }
   ],
   "source": [
    "vgg_tests = BuilderTests(\n",
    "    ingest_denses=[64],\n",
    "    output_denses=[8],\n",
    "    modelNNs=[\n",
    "        ModelNN(18, [18]), \n",
    "        ModelNN(14, [14]), \n",
    "        ModelNN(10, [10]),\n",
    "    ],\n",
    "    epochs_list=[6],\n",
    "    batch_list=[4],\n",
    "    builder_label=\"Experimental/NewTraining/VGG16\")\n",
    "\n",
    "for test in vgg_tests.generate_options():\n",
    "    print(test.representation())\n",
    "\n",
    "def run_vgg16_net(options):\n",
    "    os.environ['TF_CPP_MIN_LOG_LEVEL'] = '1'\n",
    "    enable_gpu_memory_growth()\n",
    "\n",
    "    model_builder = TestVgg16NetBuilder(options)\n",
    "    model_trainer = NewDataModelTrainer()\n",
    "\n",
    "    model_trainer.run(model_builder)\n",
    "\n",
    "    tf.keras.backend.clear_session()\n",
    "    gc.collect()\n",
    "    print(\"-\" * 80)"
   ]
  },
  {
   "cell_type": "code",
   "execution_count": 10,
   "metadata": {},
   "outputs": [
    {
     "name": "stdout",
     "output_type": "stream",
     "text": [
      "Now testing... Experimental/NewTraining/VGG16 nn18-train18-id64-od8-e6-b4\n",
      "Experiments already complete. Remove the '.complete' file for re-run\n",
      "--------------------------------------------------------------------------------\n",
      "Now testing... Experimental/NewTraining/VGG16 nn14-train14-id64-od8-e6-b4\n",
      "Experiments already complete. Remove the '.complete' file for re-run\n",
      "--------------------------------------------------------------------------------\n",
      "Now testing... Experimental/NewTraining/VGG16 nn10-train10-id64-od8-e6-b4\n",
      "Experiments already complete. Remove the '.complete' file for re-run\n",
      "--------------------------------------------------------------------------------\n"
     ]
    }
   ],
   "source": [
    "for options in vgg_tests.generate_options():\n",
    "    p1 = multiprocessing.Process(target=run_vgg16_net, args=[options])\n",
    "\n",
    "    p1.start()\n",
    "    p1.join()"
   ]
  },
  {
   "cell_type": "code",
   "execution_count": 11,
   "metadata": {},
   "outputs": [
    {
     "name": "stdout",
     "output_type": "stream",
     "text": [
      "nn50-train50-id128-od8-e6-b16\n",
      "nn50-train38-id128-od8-e6-b16\n",
      "nn50-train0-id128-od8-e6-b16\n",
      "nn80-train80-id128-od8-e6-b16\n",
      "nn80-train60-id128-od8-e6-b16\n",
      "nn80-train38-id128-od8-e6-b16\n",
      "nn80-train0-id128-od8-e6-b16\n",
      "nn142-train142-id128-od8-e6-b16\n",
      "nn142-train80-id128-od8-e6-b16\n"
     ]
    }
   ],
   "source": [
    "resnet_tests = BuilderTests(\n",
    "    ingest_denses=[128],\n",
    "    output_denses=[8],\n",
    "    modelNNs=[\n",
    "        ModelNN(50, [50, 38, 0]),\n",
    "        ModelNN(80, [80, 60, 38, 0]),\n",
    "        ModelNN(142, [142, 80]),\n",
    "    ],\n",
    "    epochs_list=[6],\n",
    "    batch_list=[16],\n",
    "    builder_label=\"Experimental/NewTraining/ResNet50\")\n",
    "\n",
    "for test in resnet_tests.generate_options():\n",
    "    print(test.representation())\n",
    "\n",
    "def run_resnet_net(options):\n",
    "    os.environ['TF_CPP_MIN_LOG_LEVEL'] = '1'\n",
    "\n",
    "    enable_gpu_memory_growth()\n",
    "\n",
    "    model_builder = TestResNetBuilder(options)\n",
    "    model_trainer = NewDataModelTrainer()\n",
    "\n",
    "    model_trainer.run(model_builder)\n",
    "\n",
    "    tf.keras.backend.clear_session()\n",
    "    gc.collect()\n",
    "    print(\"-\" * 80)"
   ]
  },
  {
   "cell_type": "code",
   "execution_count": 12,
   "metadata": {},
   "outputs": [
    {
     "name": "stdout",
     "output_type": "stream",
     "text": [
      "Now testing... Experimental/NewTraining/ResNet50 nn50-train50-id128-od8-e6-b16\n",
      "Experiments already complete. Remove the '.complete' file for re-run\n",
      "--------------------------------------------------------------------------------\n",
      "Now testing... Experimental/NewTraining/ResNet50 nn50-train38-id128-od8-e6-b16\n",
      "Experiments already complete. Remove the '.complete' file for re-run\n",
      "--------------------------------------------------------------------------------\n",
      "Now testing... Experimental/NewTraining/ResNet50 nn50-train0-id128-od8-e6-b16\n",
      "Experiments already complete. Remove the '.complete' file for re-run\n",
      "--------------------------------------------------------------------------------\n",
      "Now testing... Experimental/NewTraining/ResNet50 nn80-train80-id128-od8-e6-b16\n",
      "Experiments already complete. Remove the '.complete' file for re-run\n",
      "--------------------------------------------------------------------------------\n",
      "Now testing... Experimental/NewTraining/ResNet50 nn80-train60-id128-od8-e6-b16\n",
      "Experiments already complete. Remove the '.complete' file for re-run\n",
      "--------------------------------------------------------------------------------\n",
      "Now testing... Experimental/NewTraining/ResNet50 nn80-train38-id128-od8-e6-b16\n",
      "Experiments already complete. Remove the '.complete' file for re-run\n",
      "--------------------------------------------------------------------------------\n",
      "Now testing... Experimental/NewTraining/ResNet50 nn80-train0-id128-od8-e6-b16\n",
      "Experiments already complete. Remove the '.complete' file for re-run\n",
      "--------------------------------------------------------------------------------\n",
      "Now testing... Experimental/NewTraining/ResNet50 nn142-train142-id128-od8-e6-b16\n",
      "Experiments already complete. Remove the '.complete' file for re-run\n",
      "--------------------------------------------------------------------------------\n",
      "Now testing... Experimental/NewTraining/ResNet50 nn142-train80-id128-od8-e6-b16\n",
      "Experiments already complete. Remove the '.complete' file for re-run\n",
      "--------------------------------------------------------------------------------\n"
     ]
    }
   ],
   "source": [
    "for options in resnet_tests.generate_options():\n",
    "    p1 = multiprocessing.Process(target=run_resnet_net, args=[options])\n",
    "\n",
    "    p1.start()\n",
    "    p1.join()"
   ]
  },
  {
   "cell_type": "code",
   "execution_count": 13,
   "metadata": {},
   "outputs": [
    {
     "name": "stdout",
     "output_type": "stream",
     "text": [
      "nn59-train59-id64-od8-e6-b16\n",
      "nn59-train25-id64-od8-e6-b16\n",
      "nn59-train0-id64-od8-e6-b16\n",
      "nn68-train68-id64-od8-e6-b16\n",
      "nn68-train25-id64-od8-e6-b16\n",
      "nn68-train0-id64-od8-e6-b16\n",
      "nn111-train111-id64-od8-e6-b16\n",
      "nn331-train331-id64-od8-e6-b16\n"
     ]
    }
   ],
   "source": [
    "efficient_b2_tests = BuilderTests(\n",
    "    ingest_denses=[64],\n",
    "    output_denses=[8],\n",
    "    modelNNs=[\n",
    "        ModelNN(59, [59, 25, 0]),\n",
    "        ModelNN(68, [68, 25, 0]),\n",
    "        ModelNN(111, [111]),\n",
    "        ModelNN(331, [331]),\n",
    "    ],\n",
    "    epochs_list=[6],\n",
    "    batch_list=[16],\n",
    "    builder_label=\"Experimental/NewTraining/EfficientNetB2\")\n",
    "\n",
    "for test in efficient_b2_tests.generate_options():\n",
    "    print(test.representation())\n",
    "\n",
    "def run_efficientb2_net(options):\n",
    "    os.environ['TF_CPP_MIN_LOG_LEVEL'] = '1'\n",
    "    enable_gpu_memory_growth()\n",
    "\n",
    "    model_builder = TestEfficientNetB2Builder(options)\n",
    "    model_trainer = NewDataModelTrainer()\n",
    "\n",
    "    model_trainer.run(model_builder)\n",
    "\n",
    "    tf.keras.backend.clear_session()\n",
    "    gc.collect()\n",
    "    print(\"-\" * 80)"
   ]
  },
  {
   "cell_type": "code",
   "execution_count": 14,
   "metadata": {},
   "outputs": [
    {
     "name": "stdout",
     "output_type": "stream",
     "text": [
      "Now testing... Experimental/NewTraining/EfficientNetB2 nn59-train59-id64-od8-e6-b16\n",
      "Experiments already complete. Remove the '.complete' file for re-run\n",
      "--------------------------------------------------------------------------------\n",
      "Now testing... Experimental/NewTraining/EfficientNetB2 nn59-train25-id64-od8-e6-b16\n",
      "Experiments already complete. Remove the '.complete' file for re-run\n",
      "--------------------------------------------------------------------------------\n",
      "Now testing... Experimental/NewTraining/EfficientNetB2 nn59-train0-id64-od8-e6-b16\n",
      "Experiments already complete. Remove the '.complete' file for re-run\n",
      "--------------------------------------------------------------------------------\n",
      "Now testing... Experimental/NewTraining/EfficientNetB2 nn68-train68-id64-od8-e6-b16\n",
      "Experiments already complete. Remove the '.complete' file for re-run\n",
      "--------------------------------------------------------------------------------\n",
      "Now testing... Experimental/NewTraining/EfficientNetB2 nn68-train25-id64-od8-e6-b16\n",
      "Experiments already complete. Remove the '.complete' file for re-run\n",
      "--------------------------------------------------------------------------------\n",
      "Now testing... Experimental/NewTraining/EfficientNetB2 nn68-train0-id64-od8-e6-b16\n",
      "Experiments already complete. Remove the '.complete' file for re-run\n",
      "--------------------------------------------------------------------------------\n",
      "Now testing... Experimental/NewTraining/EfficientNetB2 nn111-train111-id64-od8-e6-b16\n",
      "Experiments already complete. Remove the '.complete' file for re-run\n",
      "--------------------------------------------------------------------------------\n",
      "Now testing... Experimental/NewTraining/EfficientNetB2 nn331-train331-id64-od8-e6-b16\n",
      "Experiments already complete. Remove the '.complete' file for re-run\n",
      "--------------------------------------------------------------------------------\n"
     ]
    }
   ],
   "source": [
    "for options in efficient_b2_tests.generate_options():\n",
    "    p1 = multiprocessing.Process(target=run_efficientb2_net, args=[options])\n",
    "\n",
    "    p1.start()\n",
    "    p1.join()"
   ]
  }
 ],
 "metadata": {
  "interpreter": {
   "hash": "f9f85f796d01129d0dd105a088854619f454435301f6ffec2fea96ecbd9be4ac"
  },
  "kernelspec": {
   "display_name": "Python 3.9.12 64-bit",
   "language": "python",
   "name": "python3"
  },
  "language_info": {
   "codemirror_mode": {
    "name": "ipython",
    "version": 3
   },
   "file_extension": ".py",
   "mimetype": "text/x-python",
   "name": "python",
   "nbconvert_exporter": "python",
   "pygments_lexer": "ipython3",
   "version": "3.9.12"
  },
  "orig_nbformat": 4
 },
 "nbformat": 4,
 "nbformat_minor": 2
}
