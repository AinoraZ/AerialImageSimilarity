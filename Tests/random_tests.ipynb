{
 "cells": [
  {
   "cell_type": "code",
   "execution_count": 1,
   "metadata": {},
   "outputs": [],
   "source": [
    "import numpy as np\n",
    "import tensorflow as tf"
   ]
  },
  {
   "cell_type": "code",
   "execution_count": 8,
   "metadata": {},
   "outputs": [],
   "source": [
    "zeros = np.zeros((3, 2, 2, 1))"
   ]
  },
  {
   "cell_type": "code",
   "execution_count": 22,
   "metadata": {},
   "outputs": [
    {
     "data": {
      "text/plain": [
       "(2, 2, 2, 1)"
      ]
     },
     "execution_count": 22,
     "metadata": {},
     "output_type": "execute_result"
    }
   ],
   "source": [
    "anchor = np.array([[[[1.], [1.]], [[1.], [1.]]], [[[1.], [1.]], [[1.], [1.]]]])\n",
    "positive = np.array([[[[0.5], [1]], [[0.3], [1]]], [[[0.1], [0.1]], [[0.1], [0.1]]]])\n",
    "negative = np.array([[[[1.], [1.]], [[1.], [1.]]], [[[1.], [1.]], [[1.], [1.]]]])\n",
    "\n",
    "anchor.shape"
   ]
  },
  {
   "cell_type": "markdown",
   "metadata": {},
   "source": [
    "## Non-FLAT"
   ]
  },
  {
   "cell_type": "code",
   "execution_count": 23,
   "metadata": {},
   "outputs": [
    {
     "name": "stdout",
     "output_type": "stream",
     "text": [
      "[[[[0.5]\n",
      "   [0. ]]\n",
      "\n",
      "  [[0.7]\n",
      "   [0. ]]]\n",
      "\n",
      "\n",
      " [[[0.9]\n",
      "   [0.9]]\n",
      "\n",
      "  [[0.9]\n",
      "   [0.9]]]]\n"
     ]
    }
   ],
   "source": [
    "subtract = np.subtract(anchor, positive)\n",
    "print(subtract)"
   ]
  },
  {
   "cell_type": "code",
   "execution_count": 24,
   "metadata": {},
   "outputs": [
    {
     "name": "stdout",
     "output_type": "stream",
     "text": [
      "[[[[0.25]\n",
      "   [0.  ]]\n",
      "\n",
      "  [[0.49]\n",
      "   [0.  ]]]\n",
      "\n",
      "\n",
      " [[[0.81]\n",
      "   [0.81]]\n",
      "\n",
      "  [[0.81]\n",
      "   [0.81]]]]\n"
     ]
    }
   ],
   "source": [
    "square = np.square(subtract)\n",
    "print(square)"
   ]
  },
  {
   "cell_type": "code",
   "execution_count": 25,
   "metadata": {},
   "outputs": [
    {
     "name": "stdout",
     "output_type": "stream",
     "text": [
      "[[[[0.74]\n",
      "   [0.  ]]]\n",
      "\n",
      "\n",
      " [[[1.62]\n",
      "   [1.62]]]]\n"
     ]
    }
   ],
   "source": [
    "summed = np.sum(square, 1, keepdims=True)\n",
    "print(summed)"
   ]
  },
  {
   "cell_type": "code",
   "execution_count": 26,
   "metadata": {},
   "outputs": [
    {
     "name": "stdout",
     "output_type": "stream",
     "text": [
      "[[[[0.86023253]\n",
      "   [0.        ]]]\n",
      "\n",
      "\n",
      " [[[1.27279221]\n",
      "   [1.27279221]]]]\n"
     ]
    }
   ],
   "source": [
    "positive_distance = np.sqrt(summed)\n",
    "print(positive_distance)"
   ]
  },
  {
   "cell_type": "code",
   "execution_count": 27,
   "metadata": {},
   "outputs": [
    {
     "data": {
      "text/plain": [
       "0.8514542347439584"
      ]
     },
     "execution_count": 27,
     "metadata": {},
     "output_type": "execute_result"
    }
   ],
   "source": [
    "np.mean(positive_distance)"
   ]
  },
  {
   "cell_type": "markdown",
   "metadata": {},
   "source": [
    "## FLAT"
   ]
  },
  {
   "cell_type": "code",
   "execution_count": 28,
   "metadata": {},
   "outputs": [
    {
     "name": "stdout",
     "output_type": "stream",
     "text": [
      "[[0.5 1.  0.3 1. ]\n",
      " [0.1 0.1 0.1 0.1]]\n"
     ]
    }
   ],
   "source": [
    "print(positive.reshape(-1, 4))\n",
    "# (x1 - x2)^2 + (y1 - y2)^2 + (z1 - z2)^2 + ..."
   ]
  },
  {
   "cell_type": "code",
   "execution_count": 29,
   "metadata": {},
   "outputs": [
    {
     "name": "stdout",
     "output_type": "stream",
     "text": [
      "[[0.5 0.  0.7 0. ]\n",
      " [0.9 0.9 0.9 0.9]]\n"
     ]
    }
   ],
   "source": [
    "subtract = np.subtract(anchor.reshape(-1, 4), positive.reshape(-1, 4))\n",
    "print(subtract)"
   ]
  },
  {
   "cell_type": "code",
   "execution_count": 30,
   "metadata": {},
   "outputs": [
    {
     "name": "stdout",
     "output_type": "stream",
     "text": [
      "[[0.25 0.   0.49 0.  ]\n",
      " [0.81 0.81 0.81 0.81]]\n"
     ]
    }
   ],
   "source": [
    "square = np.square(subtract)\n",
    "print(square)"
   ]
  },
  {
   "cell_type": "code",
   "execution_count": 31,
   "metadata": {},
   "outputs": [
    {
     "name": "stdout",
     "output_type": "stream",
     "text": [
      "[[0.74]\n",
      " [3.24]]\n"
     ]
    }
   ],
   "source": [
    "summed = np.sum(square, 1, keepdims=True)\n",
    "print(summed)"
   ]
  },
  {
   "cell_type": "code",
   "execution_count": 32,
   "metadata": {},
   "outputs": [
    {
     "name": "stdout",
     "output_type": "stream",
     "text": [
      "[[0.86023253]\n",
      " [1.8       ]]\n"
     ]
    }
   ],
   "source": [
    "positive_distance = np.sqrt(summed)\n",
    "print(positive_distance)"
   ]
  },
  {
   "cell_type": "code",
   "execution_count": 33,
   "metadata": {},
   "outputs": [
    {
     "data": {
      "text/plain": [
       "1.3301162633521313"
      ]
     },
     "execution_count": 33,
     "metadata": {},
     "output_type": "execute_result"
    }
   ],
   "source": [
    "np.mean(positive_distance)"
   ]
  },
  {
   "cell_type": "markdown",
   "metadata": {},
   "source": [
    "## Reshape Normalize"
   ]
  },
  {
   "cell_type": "code",
   "execution_count": 13,
   "metadata": {},
   "outputs": [
    {
     "name": "stderr",
     "output_type": "stream",
     "text": [
      "2022-05-12 15:37:49.876754: I tensorflow/stream_executor/cuda/cuda_gpu_executor.cc:936] successful NUMA node read from SysFS had negative value (-1), but there must be at least one NUMA node, so returning NUMA node zero\n",
      "2022-05-12 15:37:49.879890: I tensorflow/stream_executor/cuda/cuda_gpu_executor.cc:936] successful NUMA node read from SysFS had negative value (-1), but there must be at least one NUMA node, so returning NUMA node zero\n",
      "2022-05-12 15:37:49.880031: I tensorflow/stream_executor/cuda/cuda_gpu_executor.cc:936] successful NUMA node read from SysFS had negative value (-1), but there must be at least one NUMA node, so returning NUMA node zero\n",
      "2022-05-12 15:37:49.880684: I tensorflow/core/platform/cpu_feature_guard.cc:151] This TensorFlow binary is optimized with oneAPI Deep Neural Network Library (oneDNN) to use the following CPU instructions in performance-critical operations:  AVX2 FMA\n",
      "To enable them in other operations, rebuild TensorFlow with the appropriate compiler flags.\n",
      "2022-05-12 15:37:49.881171: I tensorflow/stream_executor/cuda/cuda_gpu_executor.cc:936] successful NUMA node read from SysFS had negative value (-1), but there must be at least one NUMA node, so returning NUMA node zero\n",
      "2022-05-12 15:37:49.881320: I tensorflow/stream_executor/cuda/cuda_gpu_executor.cc:936] successful NUMA node read from SysFS had negative value (-1), but there must be at least one NUMA node, so returning NUMA node zero\n",
      "2022-05-12 15:37:49.881437: I tensorflow/stream_executor/cuda/cuda_gpu_executor.cc:936] successful NUMA node read from SysFS had negative value (-1), but there must be at least one NUMA node, so returning NUMA node zero\n",
      "2022-05-12 15:37:50.456724: I tensorflow/stream_executor/cuda/cuda_gpu_executor.cc:936] successful NUMA node read from SysFS had negative value (-1), but there must be at least one NUMA node, so returning NUMA node zero\n",
      "2022-05-12 15:37:50.456898: I tensorflow/stream_executor/cuda/cuda_gpu_executor.cc:936] successful NUMA node read from SysFS had negative value (-1), but there must be at least one NUMA node, so returning NUMA node zero\n",
      "2022-05-12 15:37:50.457047: I tensorflow/stream_executor/cuda/cuda_gpu_executor.cc:936] successful NUMA node read from SysFS had negative value (-1), but there must be at least one NUMA node, so returning NUMA node zero\n",
      "2022-05-12 15:37:50.457159: I tensorflow/core/common_runtime/gpu/gpu_device.cc:1525] Created device /job:localhost/replica:0/task:0/device:GPU:0 with 564 MB memory:  -> device: 0, name: NVIDIA GeForce RTX 2080, pci bus id: 0000:2b:00.0, compute capability: 7.5\n"
     ]
    },
    {
     "data": {
      "text/plain": [
       "array([[0.6, 0.8],\n",
       "       [0.6, 0.8]], dtype=float32)"
      ]
     },
     "execution_count": 13,
     "metadata": {},
     "output_type": "execute_result"
    }
   ],
   "source": [
    "x = tf.constant([[3.0, 4.0], [3.0, 4.0]])\n",
    "tf.math.l2_normalize(x, axis=1).numpy()"
   ]
  },
  {
   "cell_type": "code",
   "execution_count": 14,
   "metadata": {},
   "outputs": [
    {
     "name": "stdout",
     "output_type": "stream",
     "text": [
      "[[0.32686023 0.65372045 0.19611614 0.65372045]\n",
      " [0.5        0.5        0.5        0.5       ]]\n"
     ]
    }
   ],
   "source": [
    "w = tf.constant(positive.reshape(-1, 4))\n",
    "wt = tf.math.l2_normalize(w, axis=1).numpy()\n",
    "print(wt)"
   ]
  },
  {
   "cell_type": "markdown",
   "metadata": {},
   "source": [
    "## Calculate weight"
   ]
  },
  {
   "cell_type": "code",
   "execution_count": 7,
   "metadata": {},
   "outputs": [
    {
     "name": "stdout",
     "output_type": "stream",
     "text": [
      "MAX 2\n",
      "0.8585786437626906\n",
      "0.9929289321881345\n",
      "0.8585786437626904\n"
     ]
    }
   ],
   "source": [
    "no_offset_emb = np.array([[0.5, 0.5]])\n",
    "offset_emb = np.array([[0.7, 0.7], [0.51, 0.51], [0.3, 0.3]])\n",
    "\n",
    "max_distance = np.prod(no_offset_emb.shape)\n",
    "print(\"MAX\", max_distance)\n",
    "\n",
    "all_distances = np.square(offset_emb - no_offset_emb)\n",
    "\n",
    "for pair_distance in all_distances:\n",
    "    distance = np.sqrt(np.nansum(pair_distance))\n",
    "\n",
    "    normalized_distance = 1 - (distance / max_distance) # 1-similar, 0-different\n",
    "    print(normalized_distance)"
   ]
  }
 ],
 "metadata": {
  "interpreter": {
   "hash": "f9f85f796d01129d0dd105a088854619f454435301f6ffec2fea96ecbd9be4ac"
  },
  "kernelspec": {
   "display_name": "Python 3.9.12 64-bit",
   "language": "python",
   "name": "python3"
  },
  "language_info": {
   "codemirror_mode": {
    "name": "ipython",
    "version": 3
   },
   "file_extension": ".py",
   "mimetype": "text/x-python",
   "name": "python",
   "nbconvert_exporter": "python",
   "pygments_lexer": "ipython3",
   "version": "3.9.12"
  },
  "orig_nbformat": 4
 },
 "nbformat": 4,
 "nbformat_minor": 2
}
