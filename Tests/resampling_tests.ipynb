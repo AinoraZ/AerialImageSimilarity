{
 "cells": [
  {
   "cell_type": "code",
   "execution_count": 1,
   "metadata": {},
   "outputs": [
    {
     "name": "stdout",
     "output_type": "stream",
     "text": [
      "d:\\University\\Bachelor\\Code\n"
     ]
    }
   ],
   "source": [
    "%cd .."
   ]
  },
  {
   "cell_type": "code",
   "execution_count": 2,
   "metadata": {},
   "outputs": [],
   "source": [
    "from map_provider import MapProvider\n",
    "import numpy as np\n",
    "from collections import Counter"
   ]
  },
  {
   "cell_type": "code",
   "execution_count": 3,
   "metadata": {},
   "outputs": [],
   "source": [
    "city_map_dir = \"./City/NewCut/City_2017.jpg\"\n",
    "city_map = MapProvider(city_map_dir, 672)"
   ]
  },
  {
   "cell_type": "markdown",
   "metadata": {},
   "source": [
    "#### Test out the choice algorithm based on weight"
   ]
  },
  {
   "cell_type": "code",
   "execution_count": 10,
   "metadata": {},
   "outputs": [
    {
     "name": "stdout",
     "output_type": "stream",
     "text": [
      "Most common: Value - 0.8951242173798393 Index - 3640 Frequency - 7\n",
      "MAX: Value - 0.9999521214106839; Index - 283; Frequency - 3\n"
     ]
    }
   ],
   "source": [
    "particle_count = 4000\n",
    "particles = city_map.generate_random_locations(particle_count)\n",
    "weights = [np.random.random() for _ in particles]\n",
    "\n",
    "sample_indices = np.random.choice(len(particles), p=weights / np.sum(weights), size=particle_count)\n",
    "\n",
    "max_index = weights.index(max(weights))\n",
    "frequency = Counter(sample_indices)\n",
    "most_common_index, most_common_count = frequency.most_common(1)[0]\n",
    "\n",
    "print(f\"Most common: Value - {weights[most_common_index]} Index - {most_common_index} Frequency - {frequency[most_common_index]}\")\n",
    "print(f\"MAX: Value - {max(weights)}; Index - {max_index}; Frequency - {frequency[max_index]}\")"
   ]
  }
 ],
 "metadata": {
  "interpreter": {
   "hash": "63fd5069d213b44bf678585dea6b12cceca9941eaf7f819626cde1f2670de90d"
  },
  "kernelspec": {
   "display_name": "Python 3.9.6 64-bit",
   "language": "python",
   "name": "python3"
  },
  "language_info": {
   "codemirror_mode": {
    "name": "ipython",
    "version": 3
   },
   "file_extension": ".py",
   "mimetype": "text/x-python",
   "name": "python",
   "nbconvert_exporter": "python",
   "pygments_lexer": "ipython3",
   "version": "3.9.6"
  },
  "orig_nbformat": 4
 },
 "nbformat": 4,
 "nbformat_minor": 2
}
