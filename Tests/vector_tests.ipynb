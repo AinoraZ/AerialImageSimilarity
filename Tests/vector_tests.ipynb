{
 "cells": [
  {
   "cell_type": "code",
   "execution_count": 2,
   "metadata": {},
   "outputs": [
    {
     "name": "stdout",
     "output_type": "stream",
     "text": [
      "d:\\University\\Bachelor\\Code\n"
     ]
    }
   ],
   "source": [
    "%cd .."
   ]
  },
  {
   "cell_type": "code",
   "execution_count": 3,
   "metadata": {},
   "outputs": [],
   "source": [
    "from vector import Vector2D\n",
    "import math"
   ]
  },
  {
   "cell_type": "code",
   "execution_count": 7,
   "metadata": {},
   "outputs": [],
   "source": [
    "first = Vector2D(15, 27)\n",
    "second = Vector2D(-10, 16)"
   ]
  },
  {
   "cell_type": "code",
   "execution_count": 8,
   "metadata": {},
   "outputs": [
    {
     "name": "stdout",
     "output_type": "stream",
     "text": [
      "27.313000567495326 - 27.313000567495326\n"
     ]
    }
   ],
   "source": [
    "first_distace = first.distance_to(second)\n",
    "second_distance = math.sqrt((first.x - second.x)**2 + (first.y - second.y)**2)\n",
    "\n",
    "print(f\"{first_distace} - {second_distance}\")"
   ]
  },
  {
   "cell_type": "code",
   "execution_count": 8,
   "metadata": {},
   "outputs": [
    {
     "name": "stdout",
     "output_type": "stream",
     "text": [
      "50.0\n",
      "49.49747468305833\n"
     ]
    }
   ],
   "source": [
    "zero = Vector2D(0, 0)\n",
    "linear = Vector2D(50, 0)\n",
    "side = Vector2D(35, 35)\n",
    "\n",
    "print(zero.distance_to(linear))\n",
    "print(zero.distance_to(side))"
   ]
  }
 ],
 "metadata": {
  "interpreter": {
   "hash": "63fd5069d213b44bf678585dea6b12cceca9941eaf7f819626cde1f2670de90d"
  },
  "kernelspec": {
   "display_name": "Python 3.9.6 64-bit",
   "language": "python",
   "name": "python3"
  },
  "language_info": {
   "codemirror_mode": {
    "name": "ipython",
    "version": 3
   },
   "file_extension": ".py",
   "mimetype": "text/x-python",
   "name": "python",
   "nbconvert_exporter": "python",
   "pygments_lexer": "ipython3",
   "version": "3.9.6"
  },
  "orig_nbformat": 4
 },
 "nbformat": 4,
 "nbformat_minor": 2
}
